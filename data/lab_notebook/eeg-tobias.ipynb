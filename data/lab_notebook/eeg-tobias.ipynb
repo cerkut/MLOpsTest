{
 "cells": [
  {
   "cell_type": "markdown",
   "metadata": {},
   "source": [
    "# EEG binary classification "
   ]
  },
  {
   "cell_type": "code",
   "execution_count": 2,
   "metadata": {
    "execution": {
     "iopub.execute_input": "2024-10-29T15:19:33.605063Z",
     "iopub.status.busy": "2024-10-29T15:19:33.604720Z",
     "iopub.status.idle": "2024-10-29T15:19:33.610834Z",
     "shell.execute_reply": "2024-10-29T15:19:33.609515Z",
     "shell.execute_reply.started": "2024-10-29T15:19:33.605030Z"
    },
    "trusted": true
   },
   "outputs": [],
   "source": [
    "import numpy as np\n",
    "import pandas as pd\n",
    "\n",
    "import matplotlib.pyplot as plt\n",
    "import seaborn as sns\n",
    "\n",
    "from sklearn.model_selection import train_test_split\n",
    "\n",
    "import tensorflow as tf\n",
    "\n",
    "from sklearn.metrics import confusion_matrix, classification_report"
   ]
  },
  {
   "cell_type": "code",
   "execution_count": 33,
   "metadata": {},
   "outputs": [
    {
     "data": {
      "text/html": [
       "<div>\n",
       "<style scoped>\n",
       "    .dataframe tbody tr th:only-of-type {\n",
       "        vertical-align: middle;\n",
       "    }\n",
       "\n",
       "    .dataframe tbody tr th {\n",
       "        vertical-align: top;\n",
       "    }\n",
       "\n",
       "    .dataframe thead th {\n",
       "        text-align: right;\n",
       "    }\n",
       "</style>\n",
       "<table border=\"1\" class=\"dataframe\">\n",
       "  <thead>\n",
       "    <tr style=\"text-align: right;\">\n",
       "      <th></th>\n",
       "      <th>0</th>\n",
       "      <th>1</th>\n",
       "      <th>2</th>\n",
       "      <th>3</th>\n",
       "      <th>4</th>\n",
       "      <th>5</th>\n",
       "      <th>6</th>\n",
       "    </tr>\n",
       "  </thead>\n",
       "  <tbody>\n",
       "    <tr>\n",
       "      <th>0</th>\n",
       "      <td>-0.060547</td>\n",
       "      <td>0.890625</td>\n",
       "      <td>-0.300049</td>\n",
       "      <td>-1.586914</td>\n",
       "      <td>1.770019</td>\n",
       "      <td>1.403809</td>\n",
       "      <td>1.0</td>\n",
       "    </tr>\n",
       "    <tr>\n",
       "      <th>1</th>\n",
       "      <td>-0.062500</td>\n",
       "      <td>0.891113</td>\n",
       "      <td>-0.299561</td>\n",
       "      <td>-1.556396</td>\n",
       "      <td>1.770019</td>\n",
       "      <td>1.525879</td>\n",
       "      <td>1.0</td>\n",
       "    </tr>\n",
       "    <tr>\n",
       "      <th>2</th>\n",
       "      <td>-0.059814</td>\n",
       "      <td>0.892578</td>\n",
       "      <td>-0.299072</td>\n",
       "      <td>-1.525879</td>\n",
       "      <td>1.770019</td>\n",
       "      <td>1.495361</td>\n",
       "      <td>1.0</td>\n",
       "    </tr>\n",
       "    <tr>\n",
       "      <th>3</th>\n",
       "      <td>-0.061035</td>\n",
       "      <td>0.893311</td>\n",
       "      <td>-0.298584</td>\n",
       "      <td>-1.464844</td>\n",
       "      <td>1.861572</td>\n",
       "      <td>1.525879</td>\n",
       "      <td>1.0</td>\n",
       "    </tr>\n",
       "    <tr>\n",
       "      <th>4</th>\n",
       "      <td>-0.062012</td>\n",
       "      <td>0.893066</td>\n",
       "      <td>-0.298584</td>\n",
       "      <td>-1.525879</td>\n",
       "      <td>1.739502</td>\n",
       "      <td>1.556396</td>\n",
       "      <td>1.0</td>\n",
       "    </tr>\n",
       "    <tr>\n",
       "      <th>...</th>\n",
       "      <td>...</td>\n",
       "      <td>...</td>\n",
       "      <td>...</td>\n",
       "      <td>...</td>\n",
       "      <td>...</td>\n",
       "      <td>...</td>\n",
       "      <td>...</td>\n",
       "    </tr>\n",
       "    <tr>\n",
       "      <th>259053</th>\n",
       "      <td>-0.068604</td>\n",
       "      <td>0.858643</td>\n",
       "      <td>-0.359863</td>\n",
       "      <td>-2.899170</td>\n",
       "      <td>1.007080</td>\n",
       "      <td>1.403809</td>\n",
       "      <td>1.0</td>\n",
       "    </tr>\n",
       "    <tr>\n",
       "      <th>259054</th>\n",
       "      <td>-0.068848</td>\n",
       "      <td>0.857178</td>\n",
       "      <td>-0.357910</td>\n",
       "      <td>-2.899170</td>\n",
       "      <td>0.946045</td>\n",
       "      <td>1.434326</td>\n",
       "      <td>1.0</td>\n",
       "    </tr>\n",
       "    <tr>\n",
       "      <th>259055</th>\n",
       "      <td>-0.069580</td>\n",
       "      <td>0.856934</td>\n",
       "      <td>-0.357422</td>\n",
       "      <td>-2.777099</td>\n",
       "      <td>0.976562</td>\n",
       "      <td>1.464844</td>\n",
       "      <td>1.0</td>\n",
       "    </tr>\n",
       "    <tr>\n",
       "      <th>259056</th>\n",
       "      <td>-0.067627</td>\n",
       "      <td>0.854004</td>\n",
       "      <td>-0.356934</td>\n",
       "      <td>-2.746582</td>\n",
       "      <td>1.007080</td>\n",
       "      <td>1.464844</td>\n",
       "      <td>1.0</td>\n",
       "    </tr>\n",
       "    <tr>\n",
       "      <th>259057</th>\n",
       "      <td>-0.067139</td>\n",
       "      <td>0.853271</td>\n",
       "      <td>-0.358154</td>\n",
       "      <td>-2.685547</td>\n",
       "      <td>0.915527</td>\n",
       "      <td>1.464844</td>\n",
       "      <td>1.0</td>\n",
       "    </tr>\n",
       "  </tbody>\n",
       "</table>\n",
       "<p>259058 rows × 7 columns</p>\n",
       "</div>"
      ],
      "text/plain": [
       "               0         1         2         3         4         5    6\n",
       "0      -0.060547  0.890625 -0.300049 -1.586914  1.770019  1.403809  1.0\n",
       "1      -0.062500  0.891113 -0.299561 -1.556396  1.770019  1.525879  1.0\n",
       "2      -0.059814  0.892578 -0.299072 -1.525879  1.770019  1.495361  1.0\n",
       "3      -0.061035  0.893311 -0.298584 -1.464844  1.861572  1.525879  1.0\n",
       "4      -0.062012  0.893066 -0.298584 -1.525879  1.739502  1.556396  1.0\n",
       "...          ...       ...       ...       ...       ...       ...  ...\n",
       "259053 -0.068604  0.858643 -0.359863 -2.899170  1.007080  1.403809  1.0\n",
       "259054 -0.068848  0.857178 -0.357910 -2.899170  0.946045  1.434326  1.0\n",
       "259055 -0.069580  0.856934 -0.357422 -2.777099  0.976562  1.464844  1.0\n",
       "259056 -0.067627  0.854004 -0.356934 -2.746582  1.007080  1.464844  1.0\n",
       "259057 -0.067139  0.853271 -0.358154 -2.685547  0.915527  1.464844  1.0\n",
       "\n",
       "[259058 rows x 7 columns]"
      ]
     },
     "execution_count": 33,
     "metadata": {},
     "output_type": "execute_result"
    }
   ],
   "source": [
    "# Here is how we extract the features and the labels from the original 55 MB dataset\n",
    "import csv\n",
    "data = pd.read_csv(\"UN-2021.04-processed.csv\") \n",
    "data"
   ]
  },
  {
   "cell_type": "code",
   "execution_count": null,
   "metadata": {},
   "outputs": [
    {
     "data": {
      "text/html": [
       "<div>\n",
       "<style scoped>\n",
       "    .dataframe tbody tr th:only-of-type {\n",
       "        vertical-align: middle;\n",
       "    }\n",
       "\n",
       "    .dataframe tbody tr th {\n",
       "        vertical-align: top;\n",
       "    }\n",
       "\n",
       "    .dataframe thead th {\n",
       "        text-align: right;\n",
       "    }\n",
       "</style>\n",
       "<table border=\"1\" class=\"dataframe\">\n",
       "  <thead>\n",
       "    <tr style=\"text-align: right;\">\n",
       "      <th></th>\n",
       "      <th>0</th>\n",
       "      <th>1</th>\n",
       "      <th>2</th>\n",
       "      <th>3</th>\n",
       "      <th>4</th>\n",
       "      <th>5</th>\n",
       "    </tr>\n",
       "  </thead>\n",
       "  <tbody>\n",
       "    <tr>\n",
       "      <th>0</th>\n",
       "      <td>-0.060547</td>\n",
       "      <td>0.890625</td>\n",
       "      <td>-0.300049</td>\n",
       "      <td>-1.586914</td>\n",
       "      <td>1.770019</td>\n",
       "      <td>1.403809</td>\n",
       "    </tr>\n",
       "    <tr>\n",
       "      <th>1</th>\n",
       "      <td>-0.062500</td>\n",
       "      <td>0.891113</td>\n",
       "      <td>-0.299561</td>\n",
       "      <td>-1.556396</td>\n",
       "      <td>1.770019</td>\n",
       "      <td>1.525879</td>\n",
       "    </tr>\n",
       "    <tr>\n",
       "      <th>2</th>\n",
       "      <td>-0.059814</td>\n",
       "      <td>0.892578</td>\n",
       "      <td>-0.299072</td>\n",
       "      <td>-1.525879</td>\n",
       "      <td>1.770019</td>\n",
       "      <td>1.495361</td>\n",
       "    </tr>\n",
       "    <tr>\n",
       "      <th>3</th>\n",
       "      <td>-0.061035</td>\n",
       "      <td>0.893311</td>\n",
       "      <td>-0.298584</td>\n",
       "      <td>-1.464844</td>\n",
       "      <td>1.861572</td>\n",
       "      <td>1.525879</td>\n",
       "    </tr>\n",
       "    <tr>\n",
       "      <th>4</th>\n",
       "      <td>-0.062012</td>\n",
       "      <td>0.893066</td>\n",
       "      <td>-0.298584</td>\n",
       "      <td>-1.525879</td>\n",
       "      <td>1.739502</td>\n",
       "      <td>1.556396</td>\n",
       "    </tr>\n",
       "    <tr>\n",
       "      <th>...</th>\n",
       "      <td>...</td>\n",
       "      <td>...</td>\n",
       "      <td>...</td>\n",
       "      <td>...</td>\n",
       "      <td>...</td>\n",
       "      <td>...</td>\n",
       "    </tr>\n",
       "    <tr>\n",
       "      <th>259053</th>\n",
       "      <td>-0.068604</td>\n",
       "      <td>0.858643</td>\n",
       "      <td>-0.359863</td>\n",
       "      <td>-2.899170</td>\n",
       "      <td>1.007080</td>\n",
       "      <td>1.403809</td>\n",
       "    </tr>\n",
       "    <tr>\n",
       "      <th>259054</th>\n",
       "      <td>-0.068848</td>\n",
       "      <td>0.857178</td>\n",
       "      <td>-0.357910</td>\n",
       "      <td>-2.899170</td>\n",
       "      <td>0.946045</td>\n",
       "      <td>1.434326</td>\n",
       "    </tr>\n",
       "    <tr>\n",
       "      <th>259055</th>\n",
       "      <td>-0.069580</td>\n",
       "      <td>0.856934</td>\n",
       "      <td>-0.357422</td>\n",
       "      <td>-2.777099</td>\n",
       "      <td>0.976562</td>\n",
       "      <td>1.464844</td>\n",
       "    </tr>\n",
       "    <tr>\n",
       "      <th>259056</th>\n",
       "      <td>-0.067627</td>\n",
       "      <td>0.854004</td>\n",
       "      <td>-0.356934</td>\n",
       "      <td>-2.746582</td>\n",
       "      <td>1.007080</td>\n",
       "      <td>1.464844</td>\n",
       "    </tr>\n",
       "    <tr>\n",
       "      <th>259057</th>\n",
       "      <td>-0.067139</td>\n",
       "      <td>0.853271</td>\n",
       "      <td>-0.358154</td>\n",
       "      <td>-2.685547</td>\n",
       "      <td>0.915527</td>\n",
       "      <td>1.464844</td>\n",
       "    </tr>\n",
       "  </tbody>\n",
       "</table>\n",
       "<p>259058 rows × 6 columns</p>\n",
       "</div>"
      ],
      "text/plain": [
       "               0         1         2         3         4         5\n",
       "0      -0.060547  0.890625 -0.300049 -1.586914  1.770019  1.403809\n",
       "1      -0.062500  0.891113 -0.299561 -1.556396  1.770019  1.525879\n",
       "2      -0.059814  0.892578 -0.299072 -1.525879  1.770019  1.495361\n",
       "3      -0.061035  0.893311 -0.298584 -1.464844  1.861572  1.525879\n",
       "4      -0.062012  0.893066 -0.298584 -1.525879  1.739502  1.556396\n",
       "...          ...       ...       ...       ...       ...       ...\n",
       "259053 -0.068604  0.858643 -0.359863 -2.899170  1.007080  1.403809\n",
       "259054 -0.068848  0.857178 -0.357910 -2.899170  0.946045  1.434326\n",
       "259055 -0.069580  0.856934 -0.357422 -2.777099  0.976562  1.464844\n",
       "259056 -0.067627  0.854004 -0.356934 -2.746582  1.007080  1.464844\n",
       "259057 -0.067139  0.853271 -0.358154 -2.685547  0.915527  1.464844\n",
       "\n",
       "[259058 rows x 6 columns]"
      ]
     },
     "execution_count": 36,
     "metadata": {},
     "output_type": "execute_result"
    }
   ],
   "source": [
    "# assign the first 6 columns to X and the last column to y\n",
    "X = data.iloc[:, :-1]\n",
    "y = data.iloc[:, -1]\n",
    "\n"
   ]
  },
  {
   "cell_type": "markdown",
   "metadata": {},
   "source": [
    "### Saving processed data, uncomment to overwrite the processed file"
   ]
  },
  {
   "cell_type": "markdown",
   "metadata": {},
   "source": [
    "First 8 columns are different in magnitude compare to 8-13. \n",
    "\n",
    "14th is always 60, and 15 linearly increases => Not useful.\n",
    "\n",
    "Can 16 be the binary claseses? \n",
    "\n",
    "Therefore we will use columns 8-13 to binary classify 16.\n"
   ]
  },
  {
   "cell_type": "code",
   "execution_count": null,
   "metadata": {},
   "outputs": [],
   "source": [
    "# data = pd.read_csv(\"UN-2021.04.csv\")   \n",
    "# use columns 8-13 as data and 16 as label. Drop columns 0-7, 14-15\n",
    "# X = data.iloc[:, 8:14]\n",
    "# y = data.iloc[:, 16]\n",
    "\n",
    "# Combine X and y to a signle cvs file and save it\n",
    "# data = pd.concat([X, y], axis=1)\n",
    "# data.columns = range(data.shape[1])\n",
    "# data.to_csv('UN-2021.04-processed.csv', index=False)\n"
   ]
  },
  {
   "cell_type": "markdown",
   "metadata": {},
   "source": [
    "# Split data into training and testing"
   ]
  },
  {
   "cell_type": "code",
   "execution_count": 37,
   "metadata": {
    "execution": {
     "iopub.execute_input": "2024-10-29T15:28:50.551469Z",
     "iopub.status.busy": "2024-10-29T15:28:50.551043Z",
     "iopub.status.idle": "2024-10-29T15:28:50.641051Z",
     "shell.execute_reply": "2024-10-29T15:28:50.639929Z",
     "shell.execute_reply.started": "2024-10-29T15:28:50.551425Z"
    },
    "trusted": true
   },
   "outputs": [],
   "source": [
    "X_train, X_test, y_train, y_test = train_test_split(X, y, train_size=0.7)"
   ]
  },
  {
   "cell_type": "markdown",
   "metadata": {},
   "source": [
    "# Neural Network"
   ]
  },
  {
   "cell_type": "code",
   "execution_count": 38,
   "metadata": {
    "execution": {
     "iopub.status.busy": "2024-10-29T15:19:36.124751Z",
     "iopub.status.idle": "2024-10-29T15:19:36.125327Z"
    },
    "trusted": true
   },
   "outputs": [
    {
     "data": {
      "text/html": [
       "<pre style=\"white-space:pre;overflow-x:auto;line-height:normal;font-family:Menlo,'DejaVu Sans Mono',consolas,'Courier New',monospace\"><span style=\"font-weight: bold\">Model: \"sequential_8\"</span>\n",
       "</pre>\n"
      ],
      "text/plain": [
       "\u001b[1mModel: \"sequential_8\"\u001b[0m\n"
      ]
     },
     "metadata": {},
     "output_type": "display_data"
    },
    {
     "data": {
      "text/html": [
       "<pre style=\"white-space:pre;overflow-x:auto;line-height:normal;font-family:Menlo,'DejaVu Sans Mono',consolas,'Courier New',monospace\">┏━━━━━━━━━━━━━━━━━━━━━━━━━━━━━━━━━┳━━━━━━━━━━━━━━━━━━━━━━━━┳━━━━━━━━━━━━━━━┓\n",
       "┃<span style=\"font-weight: bold\"> Layer (type)                    </span>┃<span style=\"font-weight: bold\"> Output Shape           </span>┃<span style=\"font-weight: bold\">       Param # </span>┃\n",
       "┡━━━━━━━━━━━━━━━━━━━━━━━━━━━━━━━━━╇━━━━━━━━━━━━━━━━━━━━━━━━╇━━━━━━━━━━━━━━━┩\n",
       "│ dense_24 (<span style=\"color: #0087ff; text-decoration-color: #0087ff\">Dense</span>)                │ (<span style=\"color: #00d7ff; text-decoration-color: #00d7ff\">None</span>, <span style=\"color: #00af00; text-decoration-color: #00af00\">25</span>)             │           <span style=\"color: #00af00; text-decoration-color: #00af00\">175</span> │\n",
       "├─────────────────────────────────┼────────────────────────┼───────────────┤\n",
       "│ dense_25 (<span style=\"color: #0087ff; text-decoration-color: #0087ff\">Dense</span>)                │ (<span style=\"color: #00d7ff; text-decoration-color: #00d7ff\">None</span>, <span style=\"color: #00af00; text-decoration-color: #00af00\">10</span>)             │           <span style=\"color: #00af00; text-decoration-color: #00af00\">260</span> │\n",
       "├─────────────────────────────────┼────────────────────────┼───────────────┤\n",
       "│ dense_26 (<span style=\"color: #0087ff; text-decoration-color: #0087ff\">Dense</span>)                │ (<span style=\"color: #00d7ff; text-decoration-color: #00d7ff\">None</span>, <span style=\"color: #00af00; text-decoration-color: #00af00\">1</span>)              │            <span style=\"color: #00af00; text-decoration-color: #00af00\">11</span> │\n",
       "└─────────────────────────────────┴────────────────────────┴───────────────┘\n",
       "</pre>\n"
      ],
      "text/plain": [
       "┏━━━━━━━━━━━━━━━━━━━━━━━━━━━━━━━━━┳━━━━━━━━━━━━━━━━━━━━━━━━┳━━━━━━━━━━━━━━━┓\n",
       "┃\u001b[1m \u001b[0m\u001b[1mLayer (type)                   \u001b[0m\u001b[1m \u001b[0m┃\u001b[1m \u001b[0m\u001b[1mOutput Shape          \u001b[0m\u001b[1m \u001b[0m┃\u001b[1m \u001b[0m\u001b[1m      Param #\u001b[0m\u001b[1m \u001b[0m┃\n",
       "┡━━━━━━━━━━━━━━━━━━━━━━━━━━━━━━━━━╇━━━━━━━━━━━━━━━━━━━━━━━━╇━━━━━━━━━━━━━━━┩\n",
       "│ dense_24 (\u001b[38;5;33mDense\u001b[0m)                │ (\u001b[38;5;45mNone\u001b[0m, \u001b[38;5;34m25\u001b[0m)             │           \u001b[38;5;34m175\u001b[0m │\n",
       "├─────────────────────────────────┼────────────────────────┼───────────────┤\n",
       "│ dense_25 (\u001b[38;5;33mDense\u001b[0m)                │ (\u001b[38;5;45mNone\u001b[0m, \u001b[38;5;34m10\u001b[0m)             │           \u001b[38;5;34m260\u001b[0m │\n",
       "├─────────────────────────────────┼────────────────────────┼───────────────┤\n",
       "│ dense_26 (\u001b[38;5;33mDense\u001b[0m)                │ (\u001b[38;5;45mNone\u001b[0m, \u001b[38;5;34m1\u001b[0m)              │            \u001b[38;5;34m11\u001b[0m │\n",
       "└─────────────────────────────────┴────────────────────────┴───────────────┘\n"
      ]
     },
     "metadata": {},
     "output_type": "display_data"
    },
    {
     "data": {
      "text/html": [
       "<pre style=\"white-space:pre;overflow-x:auto;line-height:normal;font-family:Menlo,'DejaVu Sans Mono',consolas,'Courier New',monospace\"><span style=\"font-weight: bold\"> Total params: </span><span style=\"color: #00af00; text-decoration-color: #00af00\">446</span> (1.74 KB)\n",
       "</pre>\n"
      ],
      "text/plain": [
       "\u001b[1m Total params: \u001b[0m\u001b[38;5;34m446\u001b[0m (1.74 KB)\n"
      ]
     },
     "metadata": {},
     "output_type": "display_data"
    },
    {
     "data": {
      "text/html": [
       "<pre style=\"white-space:pre;overflow-x:auto;line-height:normal;font-family:Menlo,'DejaVu Sans Mono',consolas,'Courier New',monospace\"><span style=\"font-weight: bold\"> Trainable params: </span><span style=\"color: #00af00; text-decoration-color: #00af00\">446</span> (1.74 KB)\n",
       "</pre>\n"
      ],
      "text/plain": [
       "\u001b[1m Trainable params: \u001b[0m\u001b[38;5;34m446\u001b[0m (1.74 KB)\n"
      ]
     },
     "metadata": {},
     "output_type": "display_data"
    },
    {
     "data": {
      "text/html": [
       "<pre style=\"white-space:pre;overflow-x:auto;line-height:normal;font-family:Menlo,'DejaVu Sans Mono',consolas,'Courier New',monospace\"><span style=\"font-weight: bold\"> Non-trainable params: </span><span style=\"color: #00af00; text-decoration-color: #00af00\">0</span> (0.00 B)\n",
       "</pre>\n"
      ],
      "text/plain": [
       "\u001b[1m Non-trainable params: \u001b[0m\u001b[38;5;34m0\u001b[0m (0.00 B)\n"
      ]
     },
     "metadata": {},
     "output_type": "display_data"
    },
    {
     "name": "stdout",
     "output_type": "stream",
     "text": [
      "None\n"
     ]
    }
   ],
   "source": [
    "import tensorflow as tf\n",
    "from tensorflow.keras import datasets, layers, models\n",
    "import matplotlib.pyplot as plt\n",
    "import keras\n",
    "\n",
    "\n",
    "model = models.Sequential()\n",
    "model.add(tf.keras.Input(shape=(X_train.shape[1],)))\n",
    "model.add(tf.keras.layers.Dense(25, activation='relu'))\n",
    "model.add(tf.keras.layers.Dense(10, activation='relu'))\n",
    "model.add(tf.keras.layers.Dense(1, activation=\"sigmoid\"))\n",
    "\n",
    "model.compile(\n",
    "    optimizer='adam',\n",
    "    loss='binary_crossentropy',\n",
    "    metrics=['accuracy']\n",
    ")\n",
    "print(model.summary())"
   ]
  },
  {
   "cell_type": "code",
   "execution_count": 39,
   "metadata": {
    "execution": {
     "iopub.status.busy": "2024-10-29T15:19:36.126593Z",
     "iopub.status.idle": "2024-10-29T15:19:36.127334Z"
    },
    "trusted": true
   },
   "outputs": [
    {
     "name": "stdout",
     "output_type": "stream",
     "text": [
      "Epoch 1/10\n",
      "\u001b[1m5667/5667\u001b[0m \u001b[32m━━━━━━━━━━━━━━━━━━━━\u001b[0m\u001b[37m\u001b[0m \u001b[1m3s\u001b[0m 406us/step - accuracy: 0.9053 - loss: 0.3167\n",
      "Epoch 2/10\n",
      "\u001b[1m5667/5667\u001b[0m \u001b[32m━━━━━━━━━━━━━━━━━━━━\u001b[0m\u001b[37m\u001b[0m \u001b[1m2s\u001b[0m 403us/step - accuracy: 0.9054 - loss: 0.3114\n",
      "Epoch 3/10\n",
      "\u001b[1m5667/5667\u001b[0m \u001b[32m━━━━━━━━━━━━━━━━━━━━\u001b[0m\u001b[37m\u001b[0m \u001b[1m2s\u001b[0m 397us/step - accuracy: 0.9061 - loss: 0.3088\n",
      "Epoch 4/10\n",
      "\u001b[1m5667/5667\u001b[0m \u001b[32m━━━━━━━━━━━━━━━━━━━━\u001b[0m\u001b[37m\u001b[0m \u001b[1m2s\u001b[0m 417us/step - accuracy: 0.9044 - loss: 0.3112\n",
      "Epoch 5/10\n",
      "\u001b[1m5667/5667\u001b[0m \u001b[32m━━━━━━━━━━━━━━━━━━━━\u001b[0m\u001b[37m\u001b[0m \u001b[1m3s\u001b[0m 467us/step - accuracy: 0.9046 - loss: 0.3090\n",
      "Epoch 6/10\n",
      "\u001b[1m5667/5667\u001b[0m \u001b[32m━━━━━━━━━━━━━━━━━━━━\u001b[0m\u001b[37m\u001b[0m \u001b[1m3s\u001b[0m 491us/step - accuracy: 0.9047 - loss: 0.3065\n",
      "Epoch 7/10\n",
      "\u001b[1m5667/5667\u001b[0m \u001b[32m━━━━━━━━━━━━━━━━━━━━\u001b[0m\u001b[37m\u001b[0m \u001b[1m3s\u001b[0m 486us/step - accuracy: 0.9059 - loss: 0.3013\n",
      "Epoch 8/10\n",
      "\u001b[1m5667/5667\u001b[0m \u001b[32m━━━━━━━━━━━━━━━━━━━━\u001b[0m\u001b[37m\u001b[0m \u001b[1m3s\u001b[0m 455us/step - accuracy: 0.9057 - loss: 0.3007\n",
      "Epoch 9/10\n",
      "\u001b[1m5667/5667\u001b[0m \u001b[32m━━━━━━━━━━━━━━━━━━━━\u001b[0m\u001b[37m\u001b[0m \u001b[1m3s\u001b[0m 459us/step - accuracy: 0.9065 - loss: 0.2987\n",
      "Epoch 10/10\n",
      "\u001b[1m5667/5667\u001b[0m \u001b[32m━━━━━━━━━━━━━━━━━━━━\u001b[0m\u001b[37m\u001b[0m \u001b[1m3s\u001b[0m 467us/step - accuracy: 0.9066 - loss: 0.2974\n"
     ]
    },
    {
     "data": {
      "text/plain": [
       "<keras.src.callbacks.history.History at 0x3318f18a0>"
      ]
     },
     "execution_count": 39,
     "metadata": {},
     "output_type": "execute_result"
    }
   ],
   "source": [
    "model.fit(X_train, y_train, epochs=10, batch_size=32)"
   ]
  },
  {
   "cell_type": "code",
   "execution_count": 40,
   "metadata": {
    "execution": {
     "iopub.status.busy": "2024-10-29T15:19:36.129000Z",
     "iopub.status.idle": "2024-10-29T15:19:36.129728Z"
    },
    "trusted": true
   },
   "outputs": [
    {
     "name": "stdout",
     "output_type": "stream",
     "text": [
      "\u001b[1m2429/2429\u001b[0m \u001b[32m━━━━━━━━━━━━━━━━━━━━\u001b[0m\u001b[37m\u001b[0m \u001b[1m1s\u001b[0m 369us/step - accuracy: 0.9067 - loss: 0.2973\n"
     ]
    },
    {
     "data": {
      "text/plain": [
       "[0.2986714839935303, 0.9060577750205994]"
      ]
     },
     "execution_count": 40,
     "metadata": {},
     "output_type": "execute_result"
    }
   ],
   "source": [
    "model.evaluate(X_test,y_test)"
   ]
  },
  {
   "cell_type": "markdown",
   "metadata": {},
   "source": [
    "Even with a simple model, we are highly overfitting, indicating maybe there is a simple relation between our processed data and binary label. Must be investigated further."
   ]
  }
 ],
 "metadata": {
  "kaggle": {
   "accelerator": "none",
   "dataSources": [
    {
     "datasetId": 93959,
     "sourceId": 218459,
     "sourceType": "datasetVersion"
    }
   ],
   "dockerImageVersionId": 30060,
   "isGpuEnabled": false,
   "isInternetEnabled": true,
   "language": "python",
   "sourceType": "notebook"
  },
  "kernelspec": {
   "display_name": "TF211",
   "language": "python",
   "name": "python3"
  },
  "language_info": {
   "codemirror_mode": {
    "name": "ipython",
    "version": 3
   },
   "file_extension": ".py",
   "mimetype": "text/x-python",
   "name": "python",
   "nbconvert_exporter": "python",
   "pygments_lexer": "ipython3",
   "version": "3.10.15"
  }
 },
 "nbformat": 4,
 "nbformat_minor": 4
}
